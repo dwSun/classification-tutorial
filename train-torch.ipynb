{
 "cells": [
  {
   "cell_type": "markdown",
   "metadata": {},
   "source": [
    "# pyTorch V2.0 图像识别教程\n",
    "\n",
    "\n",
    "这里以 TinyMind 《汉字书法识别》比赛数据为例，展示使用 Pytorch 进行图像数据分类模型训练的整个流程。\n",
    "\n",
    "数据地址请参考:\n",
    "https://www.tinymind.cn/competitions/41#property_23\n",
    "\n",
    "或到这里下载：\n",
    "自由练习赛数据下载地址：\n",
    "训练集：链接: https://pan.baidu.com/s/1UxvN7nVpa0cuY1A-0B8gjg 密码: aujd\n",
    "\n",
    "测试集: https://pan.baidu.com/s/1tzMYlrNY4XeMadipLCPzTw 密码: 4y9k"
   ]
  },
  {
   "cell_type": "markdown",
   "metadata": {},
   "source": [
    "# 数据探索\n",
    "请参考官方的数据说明"
   ]
  },
  {
   "cell_type": "markdown",
   "metadata": {},
   "source": [
    "# 数据处理\n",
    "\n",
    "竞赛中只有训练集 train 数据有准确的标签，因此这里只使用 train 数据即可，实际应用中，阶段 1、2 的榜单都需要使用。"
   ]
  },
  {
   "cell_type": "markdown",
   "metadata": {},
   "source": [
    "## 数据下载\n",
    "\n",
    "下载数据之后进行解压，得到 train 文件夹，里面有 100 个文件夹，每个文件夹名字即是各个汉字的标签。类似的数据集结构经常在分类任务中见到。可以使用下述命令验证一下每个文件夹下面文件的数量，看数据集是否符合竞赛数据描述：\n",
    "```sh\n",
    "for l in $(ls); do echo $l $(ls $l|wc -l); done\n",
    "```"
   ]
  },
  {
   "cell_type": "markdown",
   "metadata": {},
   "source": [
    "## 划分数据集\n",
    "\n",
    "因为这里只使用了 train 集，因此我们需要对已有数据集进行划分，供模型训练的时候做验证使用，也就是 validation 集的构建。\n",
    "> 一般认为，train 用来训练模型，validation 用来对模型进行验证以及超参数（ hyper parameter）调整，test 用来做模型的最终验证，我们所谓模型的性能，一般也是指 test 集上模型的性能指标。但是实际项目中，一般只有 train 集，同时没有可靠的 test 集来验证模型，因此一般将 train 集划分出一部分作为 validation，同时将 validation 上的模型性能作为最终模型性能指标。\n",
    "\n",
    "> 一般情况下，我们不严格区分 validation 和 test。\n",
    "\n",
    "这里将每个文件夹下面随机50个文件拿出来做 validation。\n",
    "\n",
    "```sh\n",
    "export train=train\n",
    "export val=validation\n",
    "\n",
    "for d in $(ls $train); do\n",
    "    mkdir -p $val/$d/\n",
    "    for f in $(ls train/$d | shuf | head -n 50 ); do\n",
    "        mv $train/$d/$f $val/$d/;\n",
    "    done;\n",
    "done\n",
    "```\n",
    "\n",
    "> 需要注意，这里的 validation 只间接通过超参数的调整参与了模型训练。因此有一定的数据浪费。"
   ]
  },
  {
   "cell_type": "markdown",
   "metadata": {},
   "source": [
    "# 模型训练代码-数据部分\n",
    "首先导入 pyTorch 看一下版本"
   ]
  },
  {
   "cell_type": "code",
   "execution_count": 1,
   "metadata": {},
   "outputs": [
    {
     "data": {
      "text/plain": [
       "'1.4.0'"
      ]
     },
     "execution_count": 1,
     "metadata": {},
     "output_type": "execute_result"
    }
   ],
   "source": [
    "import torch\n",
    "import torchvision as tv\n",
    "\n",
    "torch.__version__"
   ]
  },
  {
   "cell_type": "markdown",
   "metadata": {},
   "source": [
    "训练模型的时候，模型内部全部都是数字，没有任何可读性，而且这些数字也需要人为给予一些实际的意义，这里将 100 个汉字作为模型输出数字的文字表述。\n",
    "\n",
    "需要注意的是，因为模型训练往往是一个循环往复的过程，因此一个稳定的文字标签是很有必要的，这里利用相关 python 代码在首次运行的时候生成了一个标签文件，后续检测到这个标签文件，则直接调用即可。"
   ]
  },
  {
   "cell_type": "code",
   "execution_count": 2,
   "metadata": {},
   "outputs": [],
   "source": [
    "import os\n",
    "\n",
    "if os.path.exists(\"labels.txt\"):\n",
    "    with open(\"labels.txt\") as inf:\n",
    "        classes = [l.strip() for l in inf]\n",
    "else:\n",
    "    classes = os.listdir(\"worddata/train/\")\n",
    "    with open(\"labels.txt\", \"w\") as of:\n",
    "        of.write(\"\\r\\n\".join(classes))\n",
    "\n",
    "class_idx = {v: k for k, v in enumerate(classes)}\n",
    "idx_class = dict(enumerate(classes))"
   ]
  },
  {
   "cell_type": "markdown",
   "metadata": {},
   "source": [
    "pyTorch里面，classes有自己的组织方式，这里我们想要自定义，要做一下转换。"
   ]
  },
  {
   "cell_type": "code",
   "execution_count": 3,
   "metadata": {},
   "outputs": [],
   "source": [
    "from PIL import Image\n",
    "\n",
    "pth_classes = classes[:]\n",
    "pth_classes.sort()\n",
    "pth_classes_to_idx = {v: k for k, v in enumerate(pth_classes)}\n",
    "\n",
    "\n",
    "def target_transform(pth_idx):\n",
    "    return class_idx[pth_classes[pth_idx]]"
   ]
  },
  {
   "cell_type": "markdown",
   "metadata": {},
   "source": [
    "pyTorch 中提供了直接从目录中读取数据并进行训练的 API 这里使用的API如下。\n",
    "\n",
    "这里使用了两个数据集，分别代表 train、validation。\n",
    "\n",
    "需要注意的是，由于 数据中，使用的图像数据集，其数值在（0， 255）之间。同时，pyTorch 用 pillow 来处理图像的加载，其图像的数据layout是（H，W，C），而 pyTorch用来训练的数据需要是（C，H，W）的，因此需要对数据做一些转换。另外，train 数据集做了一定的数据预处理（旋转、明暗度），用于进行数据增广，也做了数据打乱（shuffle），而 validation则不需要做类似的变换。\n",
    "\n",
    "> 这里有一些地方需要注意一下，RandomRotation 我们使用了 expand 所以每次输出图像大小都不同，resize 操作要放在后面。pyTorch 中我没找到如何直接用灰度方式读取图像，对于汉字来说，色彩没有任何意义。因此这里用 Grayscale 来转换图像为灰度。ToTensor这个操作会转换数据的 layout，因此要放在最后面。"
   ]
  },
  {
   "cell_type": "code",
   "execution_count": 4,
   "metadata": {},
   "outputs": [],
   "source": [
    "from multiprocessing import cpu_count\n",
    "\n",
    "transform_train = tv.transforms.Compose(\n",
    "    [\n",
    "        # tv.transforms.RandomRotation((-15, 15), expand=True),\n",
    "        tv.transforms.RandomRotation((-15, 15)),\n",
    "        tv.transforms.Resize((128, 128)),\n",
    "        tv.transforms.ColorJitter(brightness=0.5),\n",
    "        tv.transforms.Grayscale(),\n",
    "        tv.transforms.ToTensor(),\n",
    "    ]\n",
    ")\n",
    "transform_val = tv.transforms.Compose(\n",
    "    [\n",
    "        tv.transforms.Resize((128, 128)),\n",
    "        tv.transforms.Grayscale(),\n",
    "        tv.transforms.ToTensor(),\n",
    "    ]\n",
    ")\n",
    "\n",
    "img_gen_train = tv.datasets.ImageFolder(\n",
    "    \"worddata/train/\", transform=transform_train, target_transform=target_transform\n",
    ")\n",
    "\n",
    "\n",
    "img_gen_val = tv.datasets.ImageFolder(\n",
    "    \"worddata/validation/\", transform=transform_val, target_transform=target_transform\n",
    ")\n",
    "\n",
    "batch_size = 32\n",
    "\n",
    "img_train = torch.utils.data.DataLoader(\n",
    "    img_gen_train, batch_size=batch_size, shuffle=True, num_workers=cpu_count()\n",
    ")\n",
    "img_val = torch.utils.data.DataLoader(\n",
    "    img_gen_val, batch_size=batch_size, num_workers=cpu_count()\n",
    ")"
   ]
  },
  {
   "cell_type": "markdown",
   "metadata": {},
   "source": [
    "到这里，这两个数据集就可以使用了，正式模型训练之前，我们可以先来看看这个数据集是怎么读取数据的，读取出来的数据又是设么样子的。"
   ]
  },
  {
   "cell_type": "code",
   "execution_count": 5,
   "metadata": {},
   "outputs": [
    {
     "data": {
      "text/plain": [
       "(torch.Size([32, 1, 128, 128]), torch.Size([32]))"
      ]
     },
     "execution_count": 5,
     "metadata": {},
     "output_type": "execute_result"
    }
   ],
   "source": [
    "for imgs, labels in img_train:\n",
    "    # img_train 只部分满足 generator 的语法，不能用 next 来获取数据\n",
    "    break\n",
    "imgs.shape, labels.shape"
   ]
  },
  {
   "cell_type": "markdown",
   "metadata": {},
   "source": [
    "可以看到数据是（batch, channel, height, width, height）, 因为这里是灰度图像，因此 channel 是 1。\n",
    "\n",
    "> 需要注意，pyTorch、mxnet使用的数据 layout 与Tensorflow 不同，因此数据也有一些不同的处理方式。\n",
    "\n",
    "把图片打印出来看看，看看数据和标签之间是否匹配\n"
   ]
  },
  {
   "cell_type": "code",
   "execution_count": 6,
   "metadata": {},
   "outputs": [
    {
     "data": {
      "text/plain": [
       "'雨'"
      ]
     },
     "execution_count": 6,
     "metadata": {},
     "output_type": "execute_result"
    },
    {
     "data": {
      "image/png": "[encoded data removed]",
      "text/plain": [
       "<Figure size 432x288 with 1 Axes>"
      ]
     },
     "metadata": {
      "needs_background": "light"
     },
     "output_type": "display_data"
    }
   ],
   "source": [
    "import numpy as np\n",
    "from matplotlib import pyplot as plt\n",
    "\n",
    "plt.imshow(imgs[0, 0, :, :], cmap=\"gray\")\n",
    "classes[labels[0]]"
   ]
  },
  {
   "cell_type": "markdown",
   "metadata": {},
   "source": [
    "# 模型训练代码-模型构建\n",
    "\n",
    "pyTorch 中使用静态图来构建模型，模型构建比较简单。这里演示的是使用 class 的方式构建模型，对于简单模型，还可以直接使用 Sequential 进行构建。\n",
    "\n",
    "这里的复杂模型也是用 Sequential 的简单模型进行的叠加。\n",
    "\n",
    "> 这里构建的是VGG模型，关于VGG模型的更多细节请参考 1409.1556。"
   ]
  },
  {
   "cell_type": "code",
   "execution_count": 7,
   "metadata": {},
   "outputs": [],
   "source": [
    "class MyModel(torch.nn.Module):\n",
    "    def __init__(self):\n",
    "        super(MyModel, self).__init__()\n",
    "        # 模型有两个主要部分，特征提取层和分类器\n",
    "\n",
    "        # 这里是特征提取层\n",
    "        self.feature = torch.nn.Sequential()\n",
    "        self.feature.add_module(\"conv1\", self.conv(1, 64))\n",
    "        self.feature.add_module(\"conv2\", self.conv(64, 64, add_pooling=True))\n",
    "\n",
    "        self.feature.add_module(\"conv3\", self.conv(64, 128))\n",
    "        self.feature.add_module(\"conv4\", self.conv(128, 128, add_pooling=True))\n",
    "\n",
    "        self.feature.add_module(\"conv5\", self.conv(128, 256))\n",
    "        self.feature.add_module(\"conv6\", self.conv(256, 256))\n",
    "        self.feature.add_module(\"conv7\", self.conv(256, 256, add_pooling=True))\n",
    "\n",
    "        self.feature.add_module(\"conv8\", self.conv(256, 512))\n",
    "        self.feature.add_module(\"conv9\", self.conv(512, 512))\n",
    "        self.feature.add_module(\"conv10\", self.conv(512, 512, add_pooling=True))\n",
    "\n",
    "        self.feature.add_module(\"conv11\", self.conv(512, 512))\n",
    "        self.feature.add_module(\"conv12\", self.conv(512, 512))\n",
    "        self.feature.add_module(\"conv13\", self.conv(512, 512, add_pooling=True))\n",
    "\n",
    "        self.feature.add_module(\"avg\", torch.nn.AdaptiveAvgPool2d((1, 1)))\n",
    "        self.feature.add_module(\"flatten\", torch.nn.Flatten())\n",
    "\n",
    "        self.feature.add_module(\"linear1\", torch.nn.Linear(512, 4096))\n",
    "        self.feature.add_module(\"act_linear_1\", torch.nn.ReLU())\n",
    "        self.feature.add_module(\"bn_linear_1\", torch.nn.BatchNorm1d(4096))\n",
    "\n",
    "        self.feature.add_module(\"linear2\", torch.nn.Linear(4096, 4096))\n",
    "        self.feature.add_module(\"act_linear_2\", torch.nn.ReLU())\n",
    "        self.feature.add_module(\"bn_linear_2\", torch.nn.BatchNorm1d(4096))\n",
    "\n",
    "        self.feature.add_module(\"dropout\", torch.nn.Dropout())\n",
    "\n",
    "        # 这个简单的机构是分类器\n",
    "        self.pred = torch.nn.Linear(4096, 100)\n",
    "\n",
    "    def conv(self, in_channels, out_channels, add_pooling=False):\n",
    "        # 模型大量使用重复模块构建，\n",
    "        # 这里将重复模块提取出来，简化模型构建过程\n",
    "        model = torch.nn.Sequential()\n",
    "        model.add_module(\n",
    "            \"conv\", torch.nn.Conv2d(in_channels, out_channels, 3, padding=1)\n",
    "        )\n",
    "        model.add_module(\"act_conv\", torch.nn.ReLU())\n",
    "        model.add_module(\"bn_conv\", torch.nn.BatchNorm2d(out_channels))\n",
    "\n",
    "        if add_pooling:\n",
    "            model.add_module(\"pool\", torch.nn.MaxPool2d((2, 2)))\n",
    "        return model\n",
    "\n",
    "    def forward(self, x):\n",
    "        # call 用来定义模型各个结构之间的运算关系\n",
    "\n",
    "        x = self.feature(x)\n",
    "        return self.pred(x)"
   ]
  },
  {
   "cell_type": "markdown",
   "metadata": {},
   "source": [
    "可以看到，这里必须指定网络输入输出，对比 TF 和 mxnet 不是很方便。\n",
    "\n",
    "实例化一个模型看看："
   ]
  },
  {
   "cell_type": "code",
   "execution_count": 8,
   "metadata": {},
   "outputs": [
    {
     "data": {
      "text/plain": [
       "MyModel(\n",
       "  (feature): Sequential(\n",
       "    (conv1): Sequential(\n",
       "      (conv): Conv2d(1, 64, kernel_size=(3, 3), stride=(1, 1), padding=(1, 1))\n",
       "      (act_conv): ReLU()\n",
       "      (bn_conv): BatchNorm2d(64, eps=1e-05, momentum=0.1, affine=True, track_running_stats=True)\n",
       "    )\n",
       "    (conv2): Sequential(\n",
       "      (conv): Conv2d(64, 64, kernel_size=(3, 3), stride=(1, 1), padding=(1, 1))\n",
       "      (act_conv): ReLU()\n",
       "      (bn_conv): BatchNorm2d(64, eps=1e-05, momentum=0.1, affine=True, track_running_stats=True)\n",
       "      (pool): MaxPool2d(kernel_size=(2, 2), stride=(2, 2), padding=0, dilation=1, ceil_mode=False)\n",
       "    )\n",
       "    (conv3): Sequential(\n",
       "      (conv): Conv2d(64, 128, kernel_size=(3, 3), stride=(1, 1), padding=(1, 1))\n",
       "      (act_conv): ReLU()\n",
       "      (bn_conv): BatchNorm2d(128, eps=1e-05, momentum=0.1, affine=True, track_running_stats=True)\n",
       "    )\n",
       "    (conv4): Sequential(\n",
       "      (conv): Conv2d(128, 128, kernel_size=(3, 3), stride=(1, 1), padding=(1, 1))\n",
       "      (act_conv): ReLU()\n",
       "      (bn_conv): BatchNorm2d(128, eps=1e-05, momentum=0.1, affine=True, track_running_stats=True)\n",
       "      (pool): MaxPool2d(kernel_size=(2, 2), stride=(2, 2), padding=0, dilation=1, ceil_mode=False)\n",
       "    )\n",
       "    (conv5): Sequential(\n",
       "      (conv): Conv2d(128, 256, kernel_size=(3, 3), stride=(1, 1), padding=(1, 1))\n",
       "      (act_conv): ReLU()\n",
       "      (bn_conv): BatchNorm2d(256, eps=1e-05, momentum=0.1, affine=True, track_running_stats=True)\n",
       "    )\n",
       "    (conv6): Sequential(\n",
       "      (conv): Conv2d(256, 256, kernel_size=(3, 3), stride=(1, 1), padding=(1, 1))\n",
       "      (act_conv): ReLU()\n",
       "      (bn_conv): BatchNorm2d(256, eps=1e-05, momentum=0.1, affine=True, track_running_stats=True)\n",
       "    )\n",
       "    (conv7): Sequential(\n",
       "      (conv): Conv2d(256, 256, kernel_size=(3, 3), stride=(1, 1), padding=(1, 1))\n",
       "      (act_conv): ReLU()\n",
       "      (bn_conv): BatchNorm2d(256, eps=1e-05, momentum=0.1, affine=True, track_running_stats=True)\n",
       "      (pool): MaxPool2d(kernel_size=(2, 2), stride=(2, 2), padding=0, dilation=1, ceil_mode=False)\n",
       "    )\n",
       "    (conv8): Sequential(\n",
       "      (conv): Conv2d(256, 512, kernel_size=(3, 3), stride=(1, 1), padding=(1, 1))\n",
       "      (act_conv): ReLU()\n",
       "      (bn_conv): BatchNorm2d(512, eps=1e-05, momentum=0.1, affine=True, track_running_stats=True)\n",
       "    )\n",
       "    (conv9): Sequential(\n",
       "      (conv): Conv2d(512, 512, kernel_size=(3, 3), stride=(1, 1), padding=(1, 1))\n",
       "      (act_conv): ReLU()\n",
       "      (bn_conv): BatchNorm2d(512, eps=1e-05, momentum=0.1, affine=True, track_running_stats=True)\n",
       "    )\n",
       "    (conv10): Sequential(\n",
       "      (conv): Conv2d(512, 512, kernel_size=(3, 3), stride=(1, 1), padding=(1, 1))\n",
       "      (act_conv): ReLU()\n",
       "      (bn_conv): BatchNorm2d(512, eps=1e-05, momentum=0.1, affine=True, track_running_stats=True)\n",
       "      (pool): MaxPool2d(kernel_size=(2, 2), stride=(2, 2), padding=0, dilation=1, ceil_mode=False)\n",
       "    )\n",
       "    (conv11): Sequential(\n",
       "      (conv): Conv2d(512, 512, kernel_size=(3, 3), stride=(1, 1), padding=(1, 1))\n",
       "      (act_conv): ReLU()\n",
       "      (bn_conv): BatchNorm2d(512, eps=1e-05, momentum=0.1, affine=True, track_running_stats=True)\n",
       "    )\n",
       "    (conv12): Sequential(\n",
       "      (conv): Conv2d(512, 512, kernel_size=(3, 3), stride=(1, 1), padding=(1, 1))\n",
       "      (act_conv): ReLU()\n",
       "      (bn_conv): BatchNorm2d(512, eps=1e-05, momentum=0.1, affine=True, track_running_stats=True)\n",
       "    )\n",
       "    (conv13): Sequential(\n",
       "      (conv): Conv2d(512, 512, kernel_size=(3, 3), stride=(1, 1), padding=(1, 1))\n",
       "      (act_conv): ReLU()\n",
       "      (bn_conv): BatchNorm2d(512, eps=1e-05, momentum=0.1, affine=True, track_running_stats=True)\n",
       "      (pool): MaxPool2d(kernel_size=(2, 2), stride=(2, 2), padding=0, dilation=1, ceil_mode=False)\n",
       "    )\n",
       "    (avg): AdaptiveAvgPool2d(output_size=(1, 1))\n",
       "    (flatten): Flatten()\n",
       "    (linear1): Linear(in_features=512, out_features=4096, bias=True)\n",
       "    (act_linear_1): ReLU()\n",
       "    (bn_linear_1): BatchNorm1d(4096, eps=1e-05, momentum=0.1, affine=True, track_running_stats=True)\n",
       "    (linear2): Linear(in_features=4096, out_features=4096, bias=True)\n",
       "    (act_linear_2): ReLU()\n",
       "    (bn_linear_2): BatchNorm1d(4096, eps=1e-05, momentum=0.1, affine=True, track_running_stats=True)\n",
       "    (dropout): Dropout(p=0.5, inplace=False)\n",
       "  )\n",
       "  (pred): Linear(in_features=4096, out_features=100, bias=True)\n",
       ")"
      ]
     },
     "execution_count": 8,
     "metadata": {},
     "output_type": "execute_result"
    }
   ],
   "source": [
    "model = MyModel()\n",
    "model"
   ]
  },
  {
   "cell_type": "markdown",
   "metadata": {},
   "source": [
    "# 模型训练代码-训练相关部分\n",
    "要训练模型，我们还需要定义损失，优化器等。"
   ]
  },
  {
   "cell_type": "code",
   "execution_count": 10,
   "metadata": {},
   "outputs": [],
   "source": [
    "loss_object = torch.nn.CrossEntropyLoss()\n",
    "optimizer = torch.optim.RMSprop(model.parameters())  # 优化器有些参数可以设置"
   ]
  },
  {
   "cell_type": "code",
   "execution_count": 11,
   "metadata": {},
   "outputs": [],
   "source": [
    "import time  # 模型训练的过程中手动追踪一下模型的训练速度"
   ]
  },
  {
   "cell_type": "markdown",
   "metadata": {},
   "source": [
    "因为模型整个训练过程一般是一个循环往复的过程，所以经常性的保存重启模型训练中间过程是有必要的。\n",
    "这里我们一个ckpt保存了两份，便于中断模型的重新训练。"
   ]
  },
  {
   "cell_type": "code",
   "execution_count": 12,
   "metadata": {},
   "outputs": [
    {
     "name": "stdout",
     "output_type": "stream",
     "text": [
      "model lodaded\n"
     ]
    }
   ],
   "source": [
    "import os\n",
    "\n",
    "model.cuda()\n",
    "if os.path.exists(\"model_ckpt.pth\"):\n",
    "    # 检查 checkpoint 是否存在\n",
    "    # 如果存在，则加载 checkpoint\n",
    "\n",
    "    net_state, optm_state = torch.load(\"model_ckpt.pth\")\n",
    "\n",
    "    model.load_state_dict(net_state)\n",
    "    optimizer.load_state_dict(optm_state)\n",
    "\n",
    "    # 这里是一个比较生硬的方式，其实还可以观察之前训练的过程，\n",
    "    # 手动选择准确率最高的某次 checkpoint 进行加载。\n",
    "    print(\"model lodaded\")"
   ]
  },
  {
   "cell_type": "code",
   "execution_count": 13,
   "metadata": {},
   "outputs": [
    {
     "name": "stdout",
     "output_type": "stream",
     "text": [
      "Epoch 0 Loss 2.9450810329351826, Acc 32.22406307129799, Val Loss 2.805743511962891, Val Acc 32.36\n",
      "Speed train 339.56989393319435imgs/s val 1011.529637406655imgs/s\n",
      "Epoch 1 Loss 2.779758244589434, Acc 35.48331809872029, Val Loss 3.413112826538086, Val Acc 28.98\n",
      "Speed train 336.2791914704133imgs/s val 993.966157455104imgs/s\n",
      "Epoch 2 Loss 2.6042414673721552, Acc 40.38505484460695, Val Loss 2.9681976425170897, Val Acc 50.02\n",
      "Speed train 332.93120188324434imgs/s val 969.1291653879509imgs/s\n",
      "Epoch 3 Loss 2.4111940044044795, Acc 45.25822669104205, Val Loss 1.5982631622314454, Val Acc 49.34\n",
      "Speed train 329.7491667788968imgs/s val 935.9835025338232imgs/s\n",
      "Epoch 4 Loss 2.275015108110264, Acc 49.31158592321755, Val Loss 2.3307866500854493, Val Acc 56.96\n",
      "Speed train 324.9429630120996imgs/s val 936.3682324225234imgs/s\n",
      "Epoch 5 Loss 2.3044922360554474, Acc 49.99714351005485, Val Loss 1.9341763481140137, Val Acc 58.94\n",
      "Speed train 323.72143328035884imgs/s val 922.155936655425imgs/s\n",
      "Epoch 6 Loss 2.079410880150263, Acc 55.77867915904936, Val Loss 2.0520759552001953, Val Acc 59.0\n",
      "Speed train 322.98885029816785imgs/s val 938.4868473016252imgs/s\n",
      "Epoch 7 Loss 2.1744796537285094, Acc 56.638482632541134, Val Loss 0.893874430847168, Val Acc 62.2\n",
      "Speed train 321.4922930035112imgs/s val 926.2545875981424imgs/s\n",
      "Epoch 8 Loss 2.0952156797405572, Acc 57.69538391224863, Val Loss 2.4715069076538088, Val Acc 63.62\n",
      "Speed train 319.48567203067415imgs/s val 924.2770502335272imgs/s\n",
      "Epoch 9 Loss 2.164635876142565, Acc 57.88391224862888, Val Loss 2.037498547363281, Val Acc 65.04\n",
      "Speed train 320.4914782979773imgs/s val 926.3335917927403imgs/s\n",
      "Epoch 10 Loss 1.9965006536659418, Acc 60.96606489945155, Val Loss 1.4499299522399902, Val Acc 67.12\n",
      "Speed train 320.79800542967064imgs/s val 927.3191867491669imgs/s\n",
      "Epoch 11 Loss 1.9640853081368441, Acc 63.75971206581353, Val Loss 0.8623905838012695, Val Acc 66.16\n",
      "Speed train 314.5571920940777imgs/s val 929.4075086517934imgs/s\n",
      "Epoch 12 Loss 1.9181113069029134, Acc 65.22223491773309, Val Loss 1.9042745750427246, Val Acc 68.24\n",
      "Speed train 317.19877648025926imgs/s val 965.3312397397837imgs/s\n",
      "Epoch 13 Loss 2.853502382062907, Acc 55.58729433272395, Val Loss 2.4235107025146485, Val Acc 45.86\n",
      "Speed train 320.0413544303764imgs/s val 923.3255909339786imgs/s\n",
      "Epoch 14 Loss 2.279783111276749, Acc 59.123628884826324, Val Loss 3.0447406524658205, Val Acc 67.58\n",
      "Speed train 317.31635465525085imgs/s val 945.3709841099028imgs/s\n",
      "Epoch 15 Loss 2.0280632129044593, Acc 66.62762797074954, Val Loss 2.0636839797973634, Val Acc 68.64\n",
      "Speed train 313.3670556251077imgs/s val 921.0239058429571imgs/s\n",
      "Epoch 16 Loss 2.1658236297491045, Acc 66.14488117001828, Val Loss 2.733414175415039, Val Acc 68.58\n",
      "Speed train 319.7857503036353imgs/s val 928.040519640242imgs/s\n",
      "Epoch 17 Loss 1.9876536074242601, Acc 68.00445612431444, Val Loss 3.872850012207031, Val Acc 46.18\n",
      "Speed train 315.74547475182135imgs/s val 927.4004642415082imgs/s\n",
      "Epoch 18 Loss 1.9394371920900328, Acc 68.02445155393053, Val Loss 0.9351730537414551, Val Acc 71.98\n",
      "Speed train 316.8530157848586imgs/s val 933.5937946911166imgs/s\n",
      "Epoch 19 Loss 1.8711664464998943, Acc 70.85237659963437, Val Loss 1.963274267578125, Val Acc 73.14\n",
      "Speed train 316.7885765129967imgs/s val 963.7275031662381imgs/s\n"
     ]
    }
   ],
   "source": [
    "EPOCHS = 20\n",
    "for epoch in range(EPOCHS):\n",
    "\n",
    "    start = time.time()\n",
    "\n",
    "    train_loss = 0\n",
    "    train_accuracy = 0\n",
    "    train_samples = 0\n",
    "\n",
    "    val_loss = 0\n",
    "    val_accuracy = 0\n",
    "    val_samples = 0\n",
    "\n",
    "    start = time.time()\n",
    "    for imgs, labels in img_train:\n",
    "        imgs = imgs.cuda()\n",
    "        labels = labels.cuda()\n",
    "\n",
    "        preds = model(imgs)\n",
    "\n",
    "        loss = loss_object(preds, labels)\n",
    "        optimizer.zero_grad()\n",
    "        loss.backward()\n",
    "        optimizer.step()\n",
    "\n",
    "        train_samples += imgs.shape[0]\n",
    "\n",
    "        train_loss += loss.item()\n",
    "        train_accuracy += (preds.argmax(dim=1) == labels).sum().item()\n",
    "\n",
    "    train_samples_per_second = train_samples / (time.time() - start)\n",
    "\n",
    "    start = time.time()\n",
    "    for imgs, labels in img_val:\n",
    "        imgs = imgs.cuda()\n",
    "        labels = labels.cuda()\n",
    "        model.eval()\n",
    "        preds = model(imgs)\n",
    "        model.train()\n",
    "        val_loss += loss.item()\n",
    "        val_accuracy += (preds.argmax(dim=1) == labels).sum().item()\n",
    "\n",
    "        val_samples += imgs.shape[0]\n",
    "\n",
    "    val_samples_per_second = val_samples / (time.time() - start)\n",
    "\n",
    "    print(\n",
    "        \"Epoch {} Loss {}, Acc {}, Val Loss {}, Val Acc {}\".format(\n",
    "            epoch,\n",
    "            train_loss * batch_size / train_samples,\n",
    "            train_accuracy * 100 / train_samples,\n",
    "            val_loss * batch_size / val_samples,\n",
    "            val_accuracy * 100 / val_samples,\n",
    "        )\n",
    "    )\n",
    "    print(\n",
    "        \"Speed train {}imgs/s val {}imgs/s\".format(\n",
    "            train_samples_per_second, val_samples_per_second\n",
    "        )\n",
    "    )\n",
    "\n",
    "    torch.save((model.state_dict(), optimizer.state_dict()), \"model_ckpt.pth\")\n",
    "    torch.save(\n",
    "        (model.state_dict(), optimizer.state_dict()),\n",
    "        \"model_ckpt-{:04d}.pth\".format(epoch),\n",
    "    )\n",
    "\n",
    "    # 每个 epoch 保存一下模型，需要注意每次\n",
    "    # 保存要用一个不同的名字，不然会导致覆盖，\n",
    "    # 同时还要关注一下磁盘空间占用，防止太多\n",
    "    # chekcpoint 占满磁盘空间导致错误。"
   ]
  },
  {
   "cell_type": "markdown",
   "metadata": {},
   "source": [
    "# 一些技巧\n",
    "\n",
    "因为这里定义的模型比较大，同时训练的数据也比较多，每个 epoch 用时较长，因此，如果代码有 bug 的话，经过一次 epoch 再去 debug 效率比较低。\n",
    "\n",
    "这种情况下，我们使用的数据生成过程又是自己手动指定数据数量的，因此可以尝试缩减模型规模，定义小一些的数据集来快速验证代码。在这个例子里，我们可以通过注释模型中的卷积和全连接层的代码来缩减模型尺寸，通过修改训练循环里面的数据数量来缩减数据数量。"
   ]
  },
  {
   "cell_type": "markdown",
   "metadata": {},
   "source": [
    "# 训练的速度很慢\n",
    "类似的网络结构和参数，TF里面 20epochs能达到90%的准确率，这里要40epochs才能到73%，应该是哪里有什么问题，我再看看怎么解决。"
   ]
  },
  {
   "cell_type": "code",
   "execution_count": null,
   "metadata": {},
   "outputs": [],
   "source": []
  }
 ],
 "metadata": {
  "kernelspec": {
   "display_name": "Python 3",
   "language": "python",
   "name": "python3"
  },
  "language_info": {
   "codemirror_mode": {
    "name": "ipython",
    "version": 3
   },
   "file_extension": ".py",
   "mimetype": "text/x-python",
   "name": "python",
   "nbconvert_exporter": "python",
   "pygments_lexer": "ipython3",
   "version": "3.7.3"
  }
 },
 "nbformat": 4,
 "nbformat_minor": 4
}
