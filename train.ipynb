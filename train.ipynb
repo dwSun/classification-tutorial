{
 "cells": [
  {
   "cell_type": "markdown",
   "metadata": {},
   "source": [
    "# Tensorflow V2.0 图像识别教程\n",
    "\n",
    "教程参考官方专家高级教程：\n",
    "https://tensorflow.google.cn/tutorials/quickstart/advanced?hl=en\n",
    "\n",
    "这里以 TinyMind 《汉字书法识别》比赛数据为例，展示使用 Tensorflow V2.0 进行图像数据分类模型训练的整个流程。\n",
    "\n",
    "数据地址请参考:\n",
    "https://www.tinymind.cn/competitions/41#property_23\n",
    "\n",
    "或到这里下载：\n",
    "自由练习赛数据下载地址：\n",
    "训练集：链接: https://pan.baidu.com/s/1UxvN7nVpa0cuY1A-0B8gjg 密码: aujd\n",
    "\n",
    "测试集: https://pan.baidu.com/s/1tzMYlrNY4XeMadipLCPzTw 密码: 4y9k"
   ]
  },
  {
   "cell_type": "markdown",
   "metadata": {},
   "source": [
    "# 数据探索\n",
    "请参考官方的数据说明"
   ]
  },
  {
   "cell_type": "markdown",
   "metadata": {},
   "source": [
    "# 数据处理\n",
    "\n",
    "竞赛中只有训练集 train 数据有准确的标签，因此这里只使用 train 数据即可，实际应用中，阶段 1、2 的榜单都需要使用。"
   ]
  },
  {
   "cell_type": "markdown",
   "metadata": {},
   "source": [
    "## 数据下载\n",
    "\n",
    "下载数据之后进行解压，得到 train 文件夹，里面有 100 个文件夹，每个文件夹名字即是各个汉字的标签。类似的数据集结构经常在分类任务中见到。可以使用下述命令验证一下每个文件夹下面文件的数量，看数据集是否符合竞赛数据描述：\n",
    "```sh\n",
    "for l in $(ls); do echo $l $(ls $l|wc -l); done\n",
    "```"
   ]
  },
  {
   "cell_type": "markdown",
   "metadata": {},
   "source": [
    "## 划分数据集\n",
    "\n",
    "因为这里只使用了 train 集，因此我们需要对已有数据集进行划分，供模型训练的时候做验证使用，也就是 validation 集的构建。\n",
    "> 一般认为，train 用来训练模型，validation 用来对模型进行验证以及超参数（ hyper parameter）调整，test 用来做模型的最终验证，我们所谓模型的性能，一般也是指 test 集上模型的性能指标。但是实际项目中，一般只有 train 集，同时没有可靠的 test 集来验证模型，因此一般将 train 集划分出一部分作为 validation，同时将 validation 上的模型性能作为最终模型性能指标。\n",
    "\n",
    "> 一般情况下，我们不严格区分 validation 和 test。\n",
    "\n",
    "这里将每个文件夹下面随机50个文件拿出来做 validation。\n",
    "\n",
    "```sh\n",
    "export train=train\n",
    "export val=validation\n",
    "\n",
    "for d in $(ls $train); do\n",
    "    mkdir -p $val/$d/\n",
    "    for f in $(ls train/$d | shuf | head -n 50 ); do\n",
    "        mv $train/$d/$f $val/$d/;\n",
    "    done;\n",
    "done\n",
    "```\n",
    "\n",
    "> 需要注意，这里的 validation 只间接通过超参数的调整参与了模型训练。因此有一定的数据浪费。"
   ]
  },
  {
   "cell_type": "markdown",
   "metadata": {},
   "source": [
    "# 模型训练代码-数据部分\n",
    "首先导入 TF 看一下版本"
   ]
  },
  {
   "cell_type": "code",
   "execution_count": 1,
   "metadata": {},
   "outputs": [
    {
     "data": {
      "text/plain": [
       "'2.1.0'"
      ]
     },
     "execution_count": 1,
     "metadata": {},
     "output_type": "execute_result"
    }
   ],
   "source": [
    "import tensorflow as tf\n",
    "\n",
    "tf.__version__"
   ]
  },
  {
   "cell_type": "markdown",
   "metadata": {},
   "source": [
    "训练模型的时候，模型内部全部都是数字，没有任何可读性，而且这些数字也需要人为给予一些实际的意义，这里将 100 个汉字作为模型输出数字的文字表述。\n",
    "\n",
    "需要注意的是，因为模型训练往往是一个循环往复的过程，因此一个稳定的文字标签是很有必要的，这里利用相关 python 代码在首次运行的时候生成了一个标签文件，后续检测到这个标签文件，则直接调用即可。"
   ]
  },
  {
   "cell_type": "code",
   "execution_count": 2,
   "metadata": {},
   "outputs": [],
   "source": [
    "import os\n",
    "\n",
    "if os.path.exists(\"labels.txt\"):\n",
    "    with open(\"labels.txt\") as inf:\n",
    "        classes = [l.strip() for l in inf]\n",
    "else:\n",
    "    classes = os.listdir(\"worddata/train/\")\n",
    "    with open(\"labels.txt\", \"w\") as of:\n",
    "        of.write(\"\\r\\n\".join(classes))"
   ]
  },
  {
   "cell_type": "markdown",
   "metadata": {},
   "source": [
    "相比于 TF V1.x，V2.x 中一个比较大的变化就是数据集读取和处理的工具更加简单，（虽然效率其实低了一些，但是考虑数据读取在一定的优化下，很少成为模型训练的瓶颈，这一点性能损失带来巨大的便利性，还是值得的）。\n",
    "\n",
    "TF V2.x中提供了直接从目录中读取数据并进行训练的 API 这里使用的API如下。\n",
    "\n",
    "这里使用了两个数据集，分别代表 train、validation。\n",
    "\n",
    "需要注意的是，由于 数据中，使用的图像数据集，其数值在（0， 255）之间，不适合直接输入模型进行训练，因此这里使用 rescale 对数据进行缩放。同时，train 数据集做了一定的数据预处理（旋转、明暗度），用于进行数据增广，而 validation则不需要做类似的变换。"
   ]
  },
  {
   "cell_type": "code",
   "execution_count": 3,
   "metadata": {},
   "outputs": [],
   "source": [
    "img_gen_train = tf.keras.preprocessing.image.ImageDataGenerator(\n",
    "    rescale=1.0 / 255.0, rotation_range=15, brightness_range=(0.5, 1.0)\n",
    ")\n",
    "img_gen_val = tf.keras.preprocessing.image.ImageDataGenerator(rescale=1.0 / 255.0)"
   ]
  },
  {
   "cell_type": "markdown",
   "metadata": {},
   "source": [
    "从 API 的名称和参数可以看出，这个 API 并不直接从目录中读取数据，我们实际使用的时候，要使用这个 API 的一个封装。\n",
    "\n",
    "在这个封装中，我们指定了图像最终的大小（target_size），颜色模式（color_mode），批量大小（batch_size），同时还有一个非常重要的标签（classes）。\n",
    "\n",
    "需要注意的是，这里的 color_mode 使用的是灰度模式，读取出来的数据只有一个颜色通道，因为书法的汉字全部是水墨，无所谓颜色。而 classes的使用，保证每次模型训练都使用统一的标签，如果不指定，那么这个 API 会按照一个内置的规则对标签进行编号，这个编号在不同的系统平台之间可能是不一致的。\n",
    "\n",
    "这里还需要注意一点的是，train 集我们对数据进行了随机打乱 (shuffle)， 而 validation 则没有。"
   ]
  },
  {
   "cell_type": "code",
   "execution_count": 4,
   "metadata": {},
   "outputs": [
    {
     "name": "stdout",
     "output_type": "stream",
     "text": [
      "Found 35008 images belonging to 100 classes.\n",
      "Found 5000 images belonging to 100 classes.\n"
     ]
    }
   ],
   "source": [
    "batch_size = 32\n",
    "img_train = img_gen_train.flow_from_directory(\n",
    "    \"worddata/train/\",\n",
    "    target_size=(128, 128),\n",
    "    color_mode=\"grayscale\",\n",
    "    classes=classes,\n",
    "    batch_size=batch_size,\n",
    "    shuffle=True,\n",
    ")\n",
    "img_val = img_gen_train.flow_from_directory(\n",
    "    \"worddata/validation/\",\n",
    "    target_size=(128, 128),\n",
    "    color_mode=\"grayscale\",\n",
    "    classes=classes,\n",
    "    batch_size=batch_size,\n",
    ")"
   ]
  },
  {
   "cell_type": "markdown",
   "metadata": {},
   "source": [
    "到这里，这两个数据集就可以使用了，正式模型训练之前，我们可以先来看看这个数据集是怎么读取数据的，读取出来的数据又是设么样子的。"
   ]
  },
  {
   "cell_type": "code",
   "execution_count": 5,
   "metadata": {},
   "outputs": [
    {
     "data": {
      "text/plain": [
       "((32, 128, 128, 1), (32, 100))"
      ]
     },
     "execution_count": 5,
     "metadata": {},
     "output_type": "execute_result"
    }
   ],
   "source": [
    "imgs, labels = next(img_train)\n",
    "# 因为是 generator 所以可以用next来读取\n",
    "imgs.shape, labels.shape"
   ]
  },
  {
   "cell_type": "markdown",
   "metadata": {},
   "source": [
    "可以看到数据是（batch, width, height, channel）, 因为这里是灰度图像，因此 channel 是 1。\n",
    "\n",
    "> 需要注意，pyTorch、mxnet使用的数据 layout 与Tensorflow 不同，因此数据也有一些不同的处理方式。\n",
    "\n",
    "把图片打印出来看看，看看数据和标签之间是否匹配\n"
   ]
  },
  {
   "cell_type": "code",
   "execution_count": 6,
   "metadata": {},
   "outputs": [
    {
     "data": {
      "text/plain": [
       "'益'"
      ]
     },
     "execution_count": 6,
     "metadata": {},
     "output_type": "execute_result"
    },
    {
     "data": {
      "image/png": "[encoded data removed]",
      "text/plain": [
       "<Figure size 432x288 with 1 Axes>"
      ]
     },
     "metadata": {
      "needs_background": "light"
     },
     "output_type": "display_data"
    }
   ],
   "source": [
    "import numpy as np\n",
    "from matplotlib import pyplot as plt\n",
    "\n",
    "plt.imshow(imgs[0, :, :, 0], cmap=\"gray\")\n",
    "classes[np.argsort(labels[0, :])[-1]]"
   ]
  },
  {
   "cell_type": "markdown",
   "metadata": {},
   "source": [
    "# 模型训练代码-模型构建\n",
    "\n",
    "TF V2.x 中使用动态图来构建模型，同时由于使用了 keras的 API，因此模型构建比较简单了。这里演示的是使用 class的方式构建模型，对于简单模型，还可以直接使用 Sequential 进行构建。\n",
    "\n",
    "这里的复杂模型也是用 Sequential 的简单模型进行的叠加。\n",
    "\n",
    "> 这里构建的是VGG模型，关于VGG模型的更多细节请参考 1409.1556。"
   ]
  },
  {
   "cell_type": "code",
   "execution_count": 7,
   "metadata": {},
   "outputs": [],
   "source": [
    "class MyModel(tf.keras.Model):\n",
    "    def __init__(self):\n",
    "        super(MyModel, self).__init__()\n",
    "        # 模型有两个主要部分，特征提取层和分类器\n",
    "\n",
    "        # 这里是特征提取层\n",
    "        self.feature = tf.keras.models.Sequential()\n",
    "        self.feature.add(self.conv(64))\n",
    "        self.feature.add(self.conv(64, add_pooling=True))\n",
    "\n",
    "        self.feature.add(self.conv(128))\n",
    "        self.feature.add(self.conv(128, add_pooling=True))\n",
    "\n",
    "        self.feature.add(self.conv(256))\n",
    "        self.feature.add(self.conv(256))\n",
    "        self.feature.add(self.conv(256, add_pooling=True))\n",
    "\n",
    "        self.feature.add(self.conv(512))\n",
    "        self.feature.add(self.conv(512))\n",
    "        self.feature.add(self.conv(512, add_pooling=True))\n",
    "\n",
    "        self.feature.add(self.conv(512))\n",
    "        self.feature.add(self.conv(512))\n",
    "        self.feature.add(self.conv(512, add_pooling=True))\n",
    "\n",
    "        self.feature.add(tf.keras.layers.GlobalAveragePooling2D())\n",
    "\n",
    "        self.feature.add(tf.keras.layers.Dense(4096, activation=\"relu\"))\n",
    "        self.feature.add(tf.keras.layers.BatchNormalization())\n",
    "        self.feature.add(tf.keras.layers.Dense(4096, activation=\"relu\"))\n",
    "        self.feature.add(tf.keras.layers.BatchNormalization())\n",
    "\n",
    "        self.feature.add(tf.keras.layers.Dropout(0.5))\n",
    "\n",
    "        # 这个简单的机构是分类器\n",
    "        self.pred = tf.keras.layers.Dense(100)\n",
    "\n",
    "    def conv(self, filters, add_pooling=False):\n",
    "        # 模型大量使用重复模块构建，\n",
    "        # 这里将重复模块提取出来，简化模型构建过程\n",
    "        model = tf.keras.models.Sequential(\n",
    "            [\n",
    "                tf.keras.layers.Conv2D(filters, 3, padding=\"same\", activation=\"relu\"),\n",
    "                tf.keras.layers.BatchNormalization(),\n",
    "            ]\n",
    "        )\n",
    "        if add_pooling:\n",
    "            model.add(\n",
    "                tf.keras.layers.MaxPool2D(\n",
    "                    pool_size=(2, 2), strides=None, padding=\"same\"\n",
    "                )\n",
    "            )\n",
    "        return model\n",
    "\n",
    "    def call(self, x):\n",
    "        # call 用来定义模型各个结构之间的运算关系\n",
    "\n",
    "        x = self.feature(x)\n",
    "        return self.pred(x)"
   ]
  },
  {
   "cell_type": "markdown",
   "metadata": {},
   "source": [
    "可以看到，上述模型定义中，仅仅关注当前模块的参数即可，模块的输入及输出的关系由框架自动推算得到，节省了很多精力。\n",
    "\n",
    "> 这跟 TF 1.x 有很大不同，也跟 pyTorch有很大不同。mxnet 的 gluon api 跟这里的操作是类似的。\n",
    "\n",
    "实例化一个模型看看："
   ]
  },
  {
   "cell_type": "code",
   "execution_count": 8,
   "metadata": {},
   "outputs": [
    {
     "name": "stdout",
     "output_type": "stream",
     "text": [
      "Model: \"my_model\"\n",
      "_________________________________________________________________\n",
      "Layer (type)                 Output Shape              Param #   \n",
      "=================================================================\n",
      "sequential (Sequential)      multiple                  33645760  \n",
      "_________________________________________________________________\n",
      "dense_2 (Dense)              multiple                  409700    \n",
      "=================================================================\n",
      "Total params: 34,055,460\n",
      "Trainable params: 34,030,628\n",
      "Non-trainable params: 24,832\n",
      "_________________________________________________________________\n"
     ]
    }
   ],
   "source": [
    "model = MyModel()\n",
    "\n",
    "model.build(input_shape=(None, 128, 128, 1))\n",
    "# 这里的build，是因为模型构建的时候，并没有指定输入数据的尺寸，\n",
    "# 因此要查看模型的一些数据，需要告知模型的输入数据尺寸，框架据\n",
    "# 此推断模型内部各模块参数。\n",
    "model.summary()"
   ]
  },
  {
   "cell_type": "markdown",
   "metadata": {},
   "source": [
    "build 和 summary 仅仅用来查看模型数据，对于模型训练不是必须的"
   ]
  },
  {
   "cell_type": "markdown",
   "metadata": {},
   "source": [
    "# 模型训练代码-训练相关部分\n",
    "要训练模型，我们还需要定义损失，优化器等，同时为了方便训练过程对模型进行验证，我们还需要定义一些性能指标。"
   ]
  },
  {
   "cell_type": "code",
   "execution_count": 9,
   "metadata": {},
   "outputs": [],
   "source": [
    "loss_object = tf.keras.losses.CategoricalCrossentropy(from_logits=True)\n",
    "optimizer = tf.keras.optimizers.Adam()  # 优化器有些参数可以设置\n",
    "train_loss = tf.keras.metrics.Mean(name=\"train_loss\")\n",
    "train_accuracy = tf.keras.metrics.CategoricalAccuracy(name=\"train_accuracy\")\n",
    "\n",
    "val_loss = tf.keras.metrics.Mean(name=\"val_loss\")\n",
    "val_accuracy = tf.keras.metrics.CategoricalAccuracy(name=\"val_accuracy\")"
   ]
  },
  {
   "cell_type": "markdown",
   "metadata": {},
   "source": [
    "TF V1.x 中，模型的训练是需要启动一个 Session 的，而在 TF V2.x中，这个 Session的操作被隐藏了起来，取而代之的是 tf.function。"
   ]
  },
  {
   "cell_type": "code",
   "execution_count": 10,
   "metadata": {},
   "outputs": [],
   "source": [
    "@tf.function\n",
    "def train_step(imgs, labels):\n",
    "    with tf.GradientTape() as tape:\n",
    "        # tape 用来追踪整个计算图，并记录梯度\n",
    "        preds = model(imgs, training=True)\n",
    "        loss = loss_object(labels, preds)\n",
    "    grads = tape.gradient(loss, model.trainable_variables)\n",
    "    optimizer.apply_gradients(zip(grads, model.trainable_variables))\n",
    "\n",
    "    train_loss(loss)\n",
    "    train_accuracy(labels, preds)\n",
    "\n",
    "\n",
    "@tf.function\n",
    "def val_step(imgs, labels):\n",
    "    # 验证的时候，我们不需要进行梯度更新，\n",
    "    # 也就不需要使用tape\n",
    "    preds = model(imgs, training=True)\n",
    "    loss = loss_object(labels, preds)\n",
    "\n",
    "    val_loss(loss)\n",
    "    val_accuracy(labels, preds)"
   ]
  },
  {
   "cell_type": "code",
   "execution_count": 11,
   "metadata": {},
   "outputs": [],
   "source": [
    "import time  # 模型训练的过程中手动追踪一下模型的训练速度"
   ]
  },
  {
   "cell_type": "markdown",
   "metadata": {},
   "source": [
    "因为模型整个训练过程一般是一个循环往复的过程，所以经常性的保存重启模型训练中间过程是有必要的，这里使用 checkpoint 来保存模型中间训练结果，TF 整个系列对 checkpoint 的处理都很方便，这个目前是其他框架有欠缺的部分。"
   ]
  },
  {
   "cell_type": "code",
   "execution_count": 12,
   "metadata": {},
   "outputs": [],
   "source": [
    "ckpt = tf.train.get_checkpoint_state(\".\")\n",
    "# 检查 checkpoint 是否存在\n",
    "if ckpt:\n",
    "    # 如果存在，则加载 checkpoint\n",
    "    model.load_weights(ckpt.model_checkpoint_path)\n",
    "    # 这里是一个比较生硬的方式，其实还可以观察之前训练的过程，\n",
    "    # 手动选择准确率最高的某次 checkpoint 进行加载。\n",
    "    print(\"model lodaded\")"
   ]
  },
  {
   "cell_type": "code",
   "execution_count": 13,
   "metadata": {},
   "outputs": [
    {
     "name": "stdout",
     "output_type": "stream",
     "text": [
      "Found 35008 images belonging to 100 classes.\n",
      "Found 5000 images belonging to 100 classes.\n",
      "Epoch 0 Loss 7.023247718811035, Acc 1.0854661464691162, Val Loss 7.03449010848999, Val Acc 1.0532591342926025\n",
      "Speed train 333.99072580901236imgs/s val 855.2596907200536imgs/s\n",
      "Found 35008 images belonging to 100 classes.\n",
      "Found 5000 images belonging to 100 classes.\n",
      "Epoch 1 Loss 6.777282238006592, Acc 1.0226234197616577, Val Loss 6.941394805908203, Val Acc 0.9141494631767273\n",
      "Speed train 327.1325337516975imgs/s val 916.1226758458906imgs/s\n",
      "Found 35008 images belonging to 100 classes.\n",
      "Found 5000 images belonging to 100 classes.\n",
      "Epoch 2 Loss 6.359256267547607, Acc 1.174017310142517, Val Loss 5.80662727355957, Val Acc 1.2321144342422485\n",
      "Speed train 324.335567399578imgs/s val 962.8157509235044imgs/s\n",
      "Found 35008 images belonging to 100 classes.\n",
      "Found 5000 images belonging to 100 classes.\n",
      "Epoch 3 Loss 5.362932205200195, Acc 1.388254165649414, Val Loss 5.001005172729492, Val Acc 1.5699522495269775\n",
      "Speed train 323.86471413694295imgs/s val 930.7858136706466imgs/s\n",
      "Found 35008 images belonging to 100 classes.\n",
      "Found 5000 images belonging to 100 classes.\n",
      "Epoch 4 Loss 4.838431358337402, Acc 2.4737203121185303, Val Loss 4.622710704803467, Val Acc 3.5572338104248047\n",
      "Speed train 322.9755351536125imgs/s val 923.726279512034imgs/s\n",
      "Found 35008 images belonging to 100 classes.\n",
      "Found 5000 images belonging to 100 classes.\n",
      "Epoch 5 Loss 4.364129066467285, Acc 5.950068473815918, Val Loss 3.7800049781799316, Val Acc 11.54610538482666\n",
      "Speed train 323.1431222660079imgs/s val 943.7244951999392imgs/s\n",
      "Found 35008 images belonging to 100 classes.\n",
      "Found 5000 images belonging to 100 classes.\n",
      "Epoch 6 Loss 3.1959731578826904, Acc 21.5322208404541, Val Loss 2.499628782272339, Val Acc 36.08903121948242\n",
      "Speed train 322.8869991116342imgs/s val 930.8482939234336imgs/s\n",
      "Found 35008 images belonging to 100 classes.\n",
      "Found 5000 images belonging to 100 classes.\n",
      "Epoch 7 Loss 2.12115216255188, Acc 46.052330017089844, Val Loss 1.6911603212356567, Val Acc 56.79650115966797\n",
      "Speed train 321.866934720262imgs/s val 936.5390705295545imgs/s\n",
      "Found 35008 images belonging to 100 classes.\n",
      "Found 5000 images belonging to 100 classes.\n",
      "Epoch 8 Loss 1.473148226737976, Acc 61.46023941040039, Val Loss 1.1917930841445923, Val Acc 69.67408752441406\n",
      "Speed train 321.0786097004539imgs/s val 952.8346292198817imgs/s\n",
      "Found 35008 images belonging to 100 classes.\n",
      "Found 5000 images belonging to 100 classes.\n",
      "Epoch 9 Loss 1.1069483757019043, Acc 70.93235778808594, Val Loss 1.013684868812561, Val Acc 73.92686462402344\n",
      "Speed train 319.400476897427imgs/s val 923.3046830012753imgs/s\n",
      "Found 35008 images belonging to 100 classes.\n",
      "Found 5000 images belonging to 100 classes.\n",
      "Epoch 10 Loss 0.8779520988464355, Acc 76.97097778320312, Val Loss 0.8483538031578064, Val Acc 78.67646789550781\n",
      "Speed train 309.2933807436792imgs/s val 900.1829360283824imgs/s\n",
      "Found 35008 images belonging to 100 classes.\n",
      "Found 5000 images belonging to 100 classes.\n",
      "Epoch 11 Loss 0.7251728773117065, Acc 80.77296447753906, Val Loss 0.7506675124168396, Val Acc 81.0214614868164\n",
      "Speed train 301.2632010228335imgs/s val 898.4208917080757imgs/s\n",
      "Found 35008 images belonging to 100 classes.\n",
      "Found 5000 images belonging to 100 classes.\n",
      "Epoch 12 Loss 0.6008656024932861, Acc 83.94367218017578, Val Loss 0.7291795015335083, Val Acc 81.25993347167969\n",
      "Speed train 297.387641228917imgs/s val 860.7664859874725imgs/s\n",
      "Found 35008 images belonging to 100 classes.\n",
      "Found 5000 images belonging to 100 classes.\n",
      "Epoch 13 Loss 0.5257374048233032, Acc 85.77182006835938, Val Loss 0.6249831318855286, Val Acc 83.94276428222656\n",
      "Speed train 294.72389001523715imgs/s val 870.8659186105319imgs/s\n",
      "Found 35008 images belonging to 100 classes.\n",
      "Found 5000 images belonging to 100 classes.\n",
      "Epoch 14 Loss 0.47265708446502686, Acc 87.06867218017578, Val Loss 0.628078043460846, Val Acc 84.91653442382812\n",
      "Speed train 292.79691865600137imgs/s val 885.4427240527049imgs/s\n",
      "Found 35008 images belonging to 100 classes.\n",
      "Found 5000 images belonging to 100 classes.\n",
      "Epoch 15 Loss 0.41973787546157837, Acc 88.53118896484375, Val Loss 0.5823920965194702, Val Acc 86.40699768066406\n",
      "Speed train 290.9758017995805imgs/s val 861.7976330609051imgs/s\n",
      "Found 35008 images belonging to 100 classes.\n",
      "Found 5000 images belonging to 100 classes.\n",
      "Epoch 16 Loss 0.35504868626594543, Acc 89.89087677001953, Val Loss 0.5734841823577881, Val Acc 86.44673919677734\n",
      "Speed train 287.8656709680878imgs/s val 843.401053133528imgs/s\n",
      "Found 35008 images belonging to 100 classes.\n",
      "Found 5000 images belonging to 100 classes.\n",
      "Epoch 17 Loss 0.32744738459587097, Acc 90.64213562011719, Val Loss 0.5623900294303894, Val Acc 87.400634765625\n",
      "Speed train 286.3891225531947imgs/s val 850.7197864862696imgs/s\n",
      "Found 35008 images belonging to 100 classes.\n",
      "Found 5000 images belonging to 100 classes.\n",
      "Epoch 18 Loss 0.26646262407302856, Acc 92.30461883544922, Val Loss 0.5681359767913818, Val Acc 87.10254669189453\n",
      "Speed train 293.50211639303797imgs/s val 890.6136287690091imgs/s\n",
      "Found 35008 images belonging to 100 classes.\n",
      "Found 5000 images belonging to 100 classes.\n",
      "Epoch 19 Loss 0.3041706383228302, Acc 91.7533187866211, Val Loss 0.9558600187301636, Val Acc 79.47138214111328\n",
      "Speed train 314.4602859964906imgs/s val 918.107688418758imgs/s\n"
     ]
    }
   ],
   "source": [
    "EPOCHS = 20\n",
    "for epoch in range(EPOCHS):\n",
    "    # 验证数据都是针对整个 epoch 的，\n",
    "    # 所以每个 epoch 之间要对这些数据初始化一下。\n",
    "    train_loss.reset_states()\n",
    "    train_accuracy.reset_states()\n",
    "    val_loss.reset_states()\n",
    "    val_accuracy.reset_states()\n",
    "    total_trained = 0\n",
    "    total_valed = 0\n",
    "\n",
    "    start = time.time()\n",
    "\n",
    "    for imgs, labels in img_gen_train.flow_from_directory(\n",
    "        \"worddata/train/\",\n",
    "        target_size=(128, 128),\n",
    "        color_mode=\"grayscale\",\n",
    "        classes=classes,\n",
    "        batch_size=batch_size,\n",
    "        shuffle=True,\n",
    "    ):\n",
    "        # 之前生成的 img_train 是个 generator，而且它不会自动重启和结束，\n",
    "        # 一旦启动，只要不手动结束，它会一直无限循环输出数据，因此这里手动处\n",
    "        # 理一下数据的生成，并做一个计数。\n",
    "\n",
    "        train_step(imgs, labels)\n",
    "        total_trained += imgs.shape[0]\n",
    "        if total_trained > 35000:\n",
    "            break\n",
    "    period = time.time() - start\n",
    "    train_samples_per_second = total_trained / period\n",
    "\n",
    "    start = time.time()\n",
    "    for imgs, labels in img_gen_val.flow_from_directory(\n",
    "        \"worddata/validation/\",\n",
    "        target_size=(128, 128),\n",
    "        color_mode=\"grayscale\",\n",
    "        classes=classes,\n",
    "        batch_size=batch_size,\n",
    "    ):\n",
    "        val_step(imgs, labels)\n",
    "        total_valed += imgs.shape[0]\n",
    "        if total_valed > 5000:\n",
    "            break\n",
    "    period = time.time() - start\n",
    "    val_samples_per_second = total_valed / period\n",
    "\n",
    "    print(\n",
    "        \"Epoch {} Loss {}, Acc {}, Val Loss {}, Val Acc {}\".format(\n",
    "            epoch,\n",
    "            train_loss.result(),\n",
    "            train_accuracy.result() * 100,\n",
    "            val_loss.result(),\n",
    "            val_accuracy.result() * 100,\n",
    "        )\n",
    "    )\n",
    "    print(\n",
    "        \"Speed train {}imgs/s val {}imgs/s\".format(\n",
    "            train_samples_per_second, val_samples_per_second\n",
    "        )\n",
    "    )\n",
    "    model.save_weights(\"model-{:04d}.ckpt\".format(epoch))\n",
    "    # 每个 epoch 保存一下模型，需要注意每次\n",
    "    # 保存要用一个不同的名字，不然会导致覆盖，\n",
    "    # 同时还要关注一下磁盘空间占用，防止太多\n",
    "    # chekcpoint 占满磁盘空间导致错误。\n",
    "    # 注意这个 API 调用每次都会生成数个文件，\n",
    "    # 其中 checkpoint 文件用来记录每次的文\n",
    "    # 件路径，其他文件则存储模型数据和索引信息"
   ]
  },
  {
   "cell_type": "markdown",
   "metadata": {},
   "source": [
    "# 一些技巧\n",
    "\n",
    "因为这里定义的模型比较大，同时训练的数据也比较多，每个 epoch 用时较长，因此，如果代码有 bug 的话，经过一次 epoch 再去 debug 效率比较低。\n",
    "\n",
    "这种情况下，我们使用的数据生成过程又是自己手动指定数据数量的，因此可以尝试缩减模型规模，定义小一些的数据集来快速验证代码。在这个例子里，我们可以通过注释模型中的卷积和全连接层的代码来缩减模型尺寸，通过修改训练循环里面的数据数量来缩减数据数量。"
   ]
  },
  {
   "cell_type": "code",
   "execution_count": null,
   "metadata": {},
   "outputs": [],
   "source": []
  }
 ],
 "metadata": {
  "kernelspec": {
   "display_name": "Python 3",
   "language": "python",
   "name": "python3"
  },
  "language_info": {
   "codemirror_mode": {
    "name": "ipython",
    "version": 3
   },
   "file_extension": ".py",
   "mimetype": "text/x-python",
   "name": "python",
   "nbconvert_exporter": "python",
   "pygments_lexer": "ipython3",
   "version": "3.7.3"
  }
 },
 "nbformat": 4,
 "nbformat_minor": 4
}
